{
 "cells": [
  {
   "cell_type": "markdown",
   "id": "28c78e29",
   "metadata": {},
   "source": [
    "# How to Build a Language Translator with Text and Audio Using Python and Google APIs"
   ]
  },
  {
   "cell_type": "markdown",
   "id": "dc175396",
   "metadata": {},
   "source": [
    "In this project, we will build a language translator with text as well as audio using Python and Google APIs. \n",
    "\n",
    "The input language will be Hindi (a language that is spoken in India) and the output language will be English. "
   ]
  },
  {
   "cell_type": "markdown",
   "id": "ce7b5551",
   "metadata": {},
   "source": [
    "## Installations"
   ]
  },
  {
   "cell_type": "code",
   "execution_count": 1,
   "id": "8458abcf",
   "metadata": {},
   "outputs": [],
   "source": [
    "#pip install googletrans\n"
   ]
  },
  {
   "cell_type": "code",
   "execution_count": 2,
   "id": "affd2bdc",
   "metadata": {},
   "outputs": [],
   "source": [
    "# pip install httpx==0.22.0\n"
   ]
  },
  {
   "cell_type": "code",
   "execution_count": 3,
   "id": "fc9f5fc5",
   "metadata": {},
   "outputs": [],
   "source": [
    "# pip install gTTS\n"
   ]
  },
  {
   "cell_type": "code",
   "execution_count": 4,
   "id": "605e0329",
   "metadata": {},
   "outputs": [],
   "source": [
    "# pip install SpeechRecognition\n"
   ]
  },
  {
   "cell_type": "code",
   "execution_count": 5,
   "id": "2647f25d",
   "metadata": {},
   "outputs": [],
   "source": [
    "# pip install pyaudio\n"
   ]
  },
  {
   "cell_type": "markdown",
   "id": "aa32ff03",
   "metadata": {},
   "source": [
    "## Import the Necessary Libraries"
   ]
  },
  {
   "cell_type": "code",
   "execution_count": 6,
   "id": "cbcb6be7",
   "metadata": {},
   "outputs": [],
   "source": [
    "import googletrans\n",
    "from googletrans import Translator # To detect and translate text\n",
    "\n",
    "import speech_recognition as sr # To recognize speech\n",
    "\n",
    "from gtts import gTTS # Google Text-to-Speech to convert text to audio\n",
    "\n",
    "import os # To work with files"
   ]
  },
  {
   "cell_type": "markdown",
   "id": "a39f230a",
   "metadata": {},
   "source": [
    "## Exploring Google Translate"
   ]
  },
  {
   "cell_type": "markdown",
   "id": "e56f4364",
   "metadata": {},
   "source": [
    "Let's see how many languages Google Translate can support."
   ]
  },
  {
   "cell_type": "code",
   "execution_count": 7,
   "id": "8ff4da01",
   "metadata": {},
   "outputs": [
    {
     "name": "stdout",
     "output_type": "stream",
     "text": [
      "{'af': 'afrikaans', 'sq': 'albanian', 'am': 'amharic', 'ar': 'arabic', 'hy': 'armenian', 'az': 'azerbaijani', 'eu': 'basque', 'be': 'belarusian', 'bn': 'bengali', 'bs': 'bosnian', 'bg': 'bulgarian', 'ca': 'catalan', 'ceb': 'cebuano', 'ny': 'chichewa', 'zh-cn': 'chinese (simplified)', 'zh-tw': 'chinese (traditional)', 'co': 'corsican', 'hr': 'croatian', 'cs': 'czech', 'da': 'danish', 'nl': 'dutch', 'en': 'english', 'eo': 'esperanto', 'et': 'estonian', 'tl': 'filipino', 'fi': 'finnish', 'fr': 'french', 'fy': 'frisian', 'gl': 'galician', 'ka': 'georgian', 'de': 'german', 'el': 'greek', 'gu': 'gujarati', 'ht': 'haitian creole', 'ha': 'hausa', 'haw': 'hawaiian', 'iw': 'hebrew', 'he': 'hebrew', 'hi': 'hindi', 'hmn': 'hmong', 'hu': 'hungarian', 'is': 'icelandic', 'ig': 'igbo', 'id': 'indonesian', 'ga': 'irish', 'it': 'italian', 'ja': 'japanese', 'jw': 'javanese', 'kn': 'kannada', 'kk': 'kazakh', 'km': 'khmer', 'ko': 'korean', 'ku': 'kurdish (kurmanji)', 'ky': 'kyrgyz', 'lo': 'lao', 'la': 'latin', 'lv': 'latvian', 'lt': 'lithuanian', 'lb': 'luxembourgish', 'mk': 'macedonian', 'mg': 'malagasy', 'ms': 'malay', 'ml': 'malayalam', 'mt': 'maltese', 'mi': 'maori', 'mr': 'marathi', 'mn': 'mongolian', 'my': 'myanmar (burmese)', 'ne': 'nepali', 'no': 'norwegian', 'or': 'odia', 'ps': 'pashto', 'fa': 'persian', 'pl': 'polish', 'pt': 'portuguese', 'pa': 'punjabi', 'ro': 'romanian', 'ru': 'russian', 'sm': 'samoan', 'gd': 'scots gaelic', 'sr': 'serbian', 'st': 'sesotho', 'sn': 'shona', 'sd': 'sindhi', 'si': 'sinhala', 'sk': 'slovak', 'sl': 'slovenian', 'so': 'somali', 'es': 'spanish', 'su': 'sundanese', 'sw': 'swahili', 'sv': 'swedish', 'tg': 'tajik', 'ta': 'tamil', 'te': 'telugu', 'th': 'thai', 'tr': 'turkish', 'uk': 'ukrainian', 'ur': 'urdu', 'ug': 'uyghur', 'uz': 'uzbek', 'vi': 'vietnamese', 'cy': 'welsh', 'xh': 'xhosa', 'yi': 'yiddish', 'yo': 'yoruba', 'zu': 'zulu'}\n"
     ]
    }
   ],
   "source": [
    "# Display the available languages\n",
    "\n",
    "print(googletrans.LANGUAGES)"
   ]
  },
  {
   "cell_type": "code",
   "execution_count": 8,
   "id": "4d26f08c",
   "metadata": {},
   "outputs": [
    {
     "data": {
      "text/plain": [
       "107"
      ]
     },
     "execution_count": 8,
     "metadata": {},
     "output_type": "execute_result"
    }
   ],
   "source": [
    "# Display the number of languages supported\n",
    "\n",
    "len(googletrans.LANGUAGES)"
   ]
  },
  {
   "cell_type": "markdown",
   "id": "692c8f65",
   "metadata": {},
   "source": [
    "We will now see how Google Translate can detect input languages and translate text from one language to another. "
   ]
  },
  {
   "cell_type": "code",
   "execution_count": 35,
   "id": "f45a2078",
   "metadata": {},
   "outputs": [
    {
     "name": "stdout",
     "output_type": "stream",
     "text": [
      "Detected(lang=fr, confidence=None)\n",
      "Detected(lang=ja, confidence=None)\n"
     ]
    }
   ],
   "source": [
    "# Detect Languages\n",
    "\n",
    "print(translator.detect(\"Salut comment ça va?\"))\n",
    "print(translator.detect(\"Kon'nichiwa, genkidesuka\"))"
   ]
  },
  {
   "cell_type": "code",
   "execution_count": 36,
   "id": "d001a262",
   "metadata": {},
   "outputs": [
    {
     "name": "stdout",
     "output_type": "stream",
     "text": [
      "Translated(src=fr, dest=en, text=Hi how are you?, pronunciation=None, extra_data=\"{'confiden...\")\n",
      "Translated(src=ja, dest=en, text=Hello, how are you, pronunciation=None, extra_data=\"{'confiden...\")\n"
     ]
    }
   ],
   "source": [
    "# Translate languages\n",
    "\n",
    "translator = Translator()\n",
    "print(translator.translate(\"Salut comment ça va?\"))\n",
    "print(translator.translate(\"Kon'nichiwa, genkidesuka\"))"
   ]
  },
  {
   "cell_type": "markdown",
   "id": "639af5f3",
   "metadata": {},
   "source": [
    "As we can see, with the help of the 'googletrans' Python library, we can easily perform translation related tasks. We will now begin building our translator using this module. \n"
   ]
  },
  {
   "cell_type": "markdown",
   "id": "00ea91c7",
   "metadata": {},
   "source": [
    "## Language Translator with Audio"
   ]
  },
  {
   "cell_type": "code",
   "execution_count": 17,
   "id": "c9d294da",
   "metadata": {},
   "outputs": [],
   "source": [
    "# Initialise the microphone to capture audio\n",
    "mic = sr.Microphone()\n",
    "\n",
    "# Recognise the words in the spoken audio input \n",
    "rec = sr.Recognizer()"
   ]
  },
  {
   "cell_type": "code",
   "execution_count": 18,
   "id": "d54ad4d0",
   "metadata": {},
   "outputs": [
    {
     "name": "stdout",
     "output_type": "stream",
     "text": [
      "Please speak now...\n"
     ]
    }
   ],
   "source": [
    "with mic as source:\n",
    "    # Initialise the translator\n",
    "    translator = Translator()\n",
    "    \n",
    "    # Define the input language and output language\n",
    "    inp_lang = 'hi'\n",
    "    out_lang = 'en'\n",
    "    \n",
    "    # Prompt the user to speak\n",
    "    print(\"Please speak now...\")\n",
    "    \n",
    "    # Calibrate to set the threshold property of the 'rec' instance to a lower value\n",
    "    rec.adjust_for_ambient_noise(source, duration=0.2)\n",
    "    \n",
    "    # Keep recording until there is silence\n",
    "    audio = rec.listen(source)\n",
    "    \n",
    "    # Use Google to recognize the words in the given audio\n",
    "    rec_aud = rec.recognize_google(audio)\n"
   ]
  },
  {
   "cell_type": "code",
   "execution_count": 19,
   "id": "62c86c40",
   "metadata": {},
   "outputs": [
    {
     "name": "stdout",
     "output_type": "stream",
     "text": [
      "Here is the audio input :namaste aap kaise ho\n",
      "The translated text is:  Hello how are you\n"
     ]
    }
   ],
   "source": [
    "# Print the input audio as text\n",
    "print(\"Here is the audio input :\" + rec_aud)\n",
    "\n",
    "# Translate the text and display it\n",
    "to_translate = translator.translate(rec_aud,src=inp_lang,dest=out_lang)\n",
    "translated_text = to_translate.text\n",
    "print(\"The translated text is: \", translated_text)\n"
   ]
  },
  {
   "cell_type": "code",
   "execution_count": 37,
   "id": "e21154e1",
   "metadata": {},
   "outputs": [
    {
     "data": {
      "text/plain": [
       "0"
      ]
     },
     "execution_count": 37,
     "metadata": {},
     "output_type": "execute_result"
    }
   ],
   "source": [
    "# Convert the text to audio and play it\n",
    "\n",
    "speak = gTTS(text=translated_text, lang=out_lang, slow=False)\n",
    "speak.save(\"recorded_audio.mp3\")\n",
    "os.system(\"start recorded_audio.mp3\")\n"
   ]
  },
  {
   "cell_type": "markdown",
   "id": "662b52f2",
   "metadata": {},
   "source": [
    "This opens an mp3 file containing the translated text in audio format. "
   ]
  },
  {
   "cell_type": "markdown",
   "id": "e221a53e",
   "metadata": {},
   "source": [
    "************************"
   ]
  }
 ],
 "metadata": {
  "kernelspec": {
   "display_name": "Python 3 (ipykernel)",
   "language": "python",
   "name": "python3"
  },
  "language_info": {
   "codemirror_mode": {
    "name": "ipython",
    "version": 3
   },
   "file_extension": ".py",
   "mimetype": "text/x-python",
   "name": "python",
   "nbconvert_exporter": "python",
   "pygments_lexer": "ipython3",
   "version": "3.10.11"
  }
 },
 "nbformat": 4,
 "nbformat_minor": 5
}
